{
 "cells": [
  {
   "cell_type": "markdown",
   "metadata": {},
   "source": [
    "# Clustermap of numerical values"
   ]
  },
  {
   "cell_type": "code",
   "execution_count": 1,
   "metadata": {},
   "outputs": [],
   "source": [
    "import pandas as pd \n",
    "import seaborn as sns \n",
    "from matplotlib import pyplot as plt \n",
    "from os.path import join \n",
    "import os \n",
    "import itertools \n",
    "import numpy as np\n"
   ]
  },
  {
   "cell_type": "code",
   "execution_count": 3,
   "metadata": {},
   "outputs": [
    {
     "name": "stdout",
     "output_type": "stream",
     "text": [
      "                Arnaud_Adelson  Arnaud_Anne  Arnaud_Bal  Arnaud_Batilde  \\\n",
      "Arnaud_Adelson        0.000000     0.633142    0.852026        0.686660   \n",
      "Arnaud_Anne           0.633142     0.000000    0.933643        0.702131   \n",
      "Arnaud_Bal            0.852026     0.933643    0.000000        0.874129   \n",
      "Arnaud_Batilde        0.686660     0.702131    0.874129        0.000000   \n",
      "Arnaud_Clary          0.719231     0.657300    0.910234        0.755663   \n",
      "\n",
      "                Arnaud_Clary  Arnaud_Epoux  Arnaud_Fanny  Arnaud_Julie  \\\n",
      "Arnaud_Adelson      0.719231      0.573369      0.649559      0.774321   \n",
      "Arnaud_Anne         0.657300      0.586625      0.608714      0.663354   \n",
      "Arnaud_Bal          0.910234      0.750313      0.827293      0.904946   \n",
      "Arnaud_Batilde      0.755663      0.628626      0.756324      0.795536   \n",
      "Arnaud_Clary        0.000000      0.617965      0.680343      0.676331   \n",
      "\n",
      "                Arnaud_Lucie  Arnaud_Matinees  ...  Voltaire_Homme  \\\n",
      "Arnaud_Adelson      0.632941         0.625818  ...        1.205569   \n",
      "Arnaud_Anne         0.639020         0.704732  ...        1.143348   \n",
      "Arnaud_Bal          0.825267         0.856439  ...        1.105240   \n",
      "Arnaud_Batilde      0.611627         0.692288  ...        1.181394   \n",
      "Arnaud_Clary        0.746544         0.741523  ...        1.146420   \n",
      "\n",
      "                Voltaire_Ingenu  Voltaire_Jenni  Voltaire_Micromegas  \\\n",
      "Arnaud_Adelson         1.104443        1.140239             1.149218   \n",
      "Arnaud_Anne            1.112421        1.091708             1.148408   \n",
      "Arnaud_Bal             1.030653        1.116715             1.067825   \n",
      "Arnaud_Batilde         1.162795        1.156930             1.164861   \n",
      "Arnaud_Clary           1.125463        1.104210             1.135524   \n",
      "\n",
      "                Voltaire_Oreilles  Voltaire_Princesse  Voltaire_Scarmentado  \\\n",
      "Arnaud_Adelson           1.143931            1.140552              1.144340   \n",
      "Arnaud_Anne              1.112886            1.175465              1.151604   \n",
      "Arnaud_Bal               1.105444            1.083296              1.134842   \n",
      "Arnaud_Batilde           1.126022            1.161056              1.098782   \n",
      "Arnaud_Clary             1.109910            1.166582              1.109441   \n",
      "\n",
      "                Voltaire_Songe  Voltaire_Taureau  XXX_Etourdi  \n",
      "Arnaud_Adelson        1.145760          1.129685     1.061773  \n",
      "Arnaud_Anne           1.099810          1.113191     1.098909  \n",
      "Arnaud_Bal            1.073985          1.087894     0.936174  \n",
      "Arnaud_Batilde        1.102718          1.077918     1.095877  \n",
      "Arnaud_Clary          1.087324          1.137478     1.038807  \n",
      "\n",
      "[5 rows x 110 columns]\n"
     ]
    }
   ],
   "source": [
    "matrix = pd.read_csv(\"distance_table_2000_MFW_wurzburg.csv\", sep=\",\", index_col=0)  # CSV mit Komma als Trennzeichen\n",
    "print(matrix.head())"
   ]
  },
  {
   "cell_type": "code",
   "execution_count": 6,
   "metadata": {},
   "outputs": [],
   "source": [
    "# Alphabetische Sortierung\n",
    "matrix = matrix.sort_index(axis=0).sort_index(axis=1)"
   ]
  },
  {
   "cell_type": "code",
   "execution_count": 1,
   "metadata": {},
   "outputs": [
    {
     "ename": "NameError",
     "evalue": "name 'sns' is not defined",
     "output_type": "error",
     "traceback": [
      "\u001b[1;31m---------------------------------------------------------------------------\u001b[0m",
      "\u001b[1;31mNameError\u001b[0m                                 Traceback (most recent call last)",
      "Cell \u001b[1;32mIn[1], line 1\u001b[0m\n\u001b[1;32m----> 1\u001b[0m \u001b[43msns\u001b[49m\u001b[38;5;241m.\u001b[39mset_style(\u001b[38;5;124m\"\u001b[39m\u001b[38;5;124mwhitegrid\u001b[39m\u001b[38;5;124m\"\u001b[39m)\n\u001b[0;32m      2\u001b[0m plt\u001b[38;5;241m.\u001b[39mfigure()\n\u001b[0;32m      3\u001b[0m plt\u001b[38;5;241m.\u001b[39mtitle(\u001b[38;5;124m\"\u001b[39m\u001b[38;5;124mCluster heatmap of stylometric distance matrix\u001b[39m\u001b[38;5;124m\"\u001b[39m)\n",
      "\u001b[1;31mNameError\u001b[0m: name 'sns' is not defined"
     ]
    }
   ],
   "source": [
    "sns.set_style(\"whitegrid\")\n",
    "plt.figure()\n",
    "plt.title(\"Cluster heatmap of stylometric distance matrix\")\n",
    "sns.clustermap(\n",
    "        data=matrix,\n",
    "        method=\"ward\", # ward|centroid etc.\n",
    "        robust=True,\n",
    "        figsize=(18,18),\n",
    "        annot=True,\n",
    "        square=False,\n",
    "        linewidths=0.8,\n",
    "        linecolor=\"white\",\n",
    "        cmap=\"hot\",\n",
    "        cbar=True,    \n",
    "        )\n",
    "plt.tight_layout()\n",
    "plt.savefig(clustermapfile, dpi=300)\n",
    "plt.close()"
   ]
  },
  {
   "cell_type": "markdown",
   "metadata": {},
   "source": []
  }
 ],
 "metadata": {
  "kernelspec": {
   "display_name": "pythonenv",
   "language": "python",
   "name": "python3"
  },
  "language_info": {
   "codemirror_mode": {
    "name": "ipython",
    "version": 3
   },
   "file_extension": ".py",
   "mimetype": "text/x-python",
   "name": "python",
   "nbconvert_exporter": "python",
   "pygments_lexer": "ipython3",
   "version": "3.8.0"
  }
 },
 "nbformat": 4,
 "nbformat_minor": 2
}
